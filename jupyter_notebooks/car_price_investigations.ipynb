{
 "cells": [
  {
   "cell_type": "markdown",
   "id": "8da8b331",
   "metadata": {},
   "source": [
    "# Car Price Investigations\n"
   ]
  },
  {
   "cell_type": "markdown",
   "id": "3ce6b44d",
   "metadata": {},
   "source": [
    "## Navigation:\n",
    "* [Readme](https://github.com/Fazestar01/Car-Price-Analysis/blob/main/README.md)\n",
    "* [Clean Data](https://github.com/Fazestar01/Car-Price-Analysis/blob/main/data/cleanedcardata.csv)\n",
    "* [Raw Data](https://github.com/Fazestar01/Car-Price-Analysis/blob/main/data/CarPrice_Assignment.csv)\n",
    "* [Dashboard](https://public.tableau.com/app/profile/kaori.ikarashi/viz/CarPriceAnalysis_17501618237170/Story1?publish=yes)\n",
    "\n"
   ]
  },
  {
   "cell_type": "markdown",
   "id": "61700395",
   "metadata": {},
   "source": [
    "First we import necessary libraries"
   ]
  },
  {
   "cell_type": "code",
   "execution_count": 72,
   "id": "94353357",
   "metadata": {},
   "outputs": [],
   "source": [
    "import pandas as pd \n",
    "import numpy as np"
   ]
  },
  {
   "cell_type": "markdown",
   "id": "9c89ac8b",
   "metadata": {},
   "source": [
    "We then loads the data set and display the first 5 rows for initial investigation"
   ]
  },
  {
   "cell_type": "code",
   "execution_count": 73,
   "id": "cbeb19e4",
   "metadata": {},
   "outputs": [
    {
     "data": {
      "text/html": [
       "<div>\n",
       "<style scoped>\n",
       "    .dataframe tbody tr th:only-of-type {\n",
       "        vertical-align: middle;\n",
       "    }\n",
       "\n",
       "    .dataframe tbody tr th {\n",
       "        vertical-align: top;\n",
       "    }\n",
       "\n",
       "    .dataframe thead th {\n",
       "        text-align: right;\n",
       "    }\n",
       "</style>\n",
       "<table border=\"1\" class=\"dataframe\">\n",
       "  <thead>\n",
       "    <tr style=\"text-align: right;\">\n",
       "      <th></th>\n",
       "      <th>car_ID</th>\n",
       "      <th>symboling</th>\n",
       "      <th>CarName</th>\n",
       "      <th>fueltype</th>\n",
       "      <th>aspiration</th>\n",
       "      <th>doornumber</th>\n",
       "      <th>carbody</th>\n",
       "      <th>drivewheel</th>\n",
       "      <th>enginelocation</th>\n",
       "      <th>wheelbase</th>\n",
       "      <th>...</th>\n",
       "      <th>enginesize</th>\n",
       "      <th>fuelsystem</th>\n",
       "      <th>boreratio</th>\n",
       "      <th>stroke</th>\n",
       "      <th>compressionratio</th>\n",
       "      <th>horsepower</th>\n",
       "      <th>peakrpm</th>\n",
       "      <th>citympg</th>\n",
       "      <th>highwaympg</th>\n",
       "      <th>price</th>\n",
       "    </tr>\n",
       "  </thead>\n",
       "  <tbody>\n",
       "    <tr>\n",
       "      <th>0</th>\n",
       "      <td>1</td>\n",
       "      <td>3</td>\n",
       "      <td>alfa-romero giulia</td>\n",
       "      <td>gas</td>\n",
       "      <td>std</td>\n",
       "      <td>two</td>\n",
       "      <td>convertible</td>\n",
       "      <td>rwd</td>\n",
       "      <td>front</td>\n",
       "      <td>88.6</td>\n",
       "      <td>...</td>\n",
       "      <td>130</td>\n",
       "      <td>mpfi</td>\n",
       "      <td>3.47</td>\n",
       "      <td>2.68</td>\n",
       "      <td>9.0</td>\n",
       "      <td>111</td>\n",
       "      <td>5000</td>\n",
       "      <td>21</td>\n",
       "      <td>27</td>\n",
       "      <td>13495.0</td>\n",
       "    </tr>\n",
       "    <tr>\n",
       "      <th>1</th>\n",
       "      <td>2</td>\n",
       "      <td>3</td>\n",
       "      <td>alfa-romero stelvio</td>\n",
       "      <td>gas</td>\n",
       "      <td>std</td>\n",
       "      <td>two</td>\n",
       "      <td>convertible</td>\n",
       "      <td>rwd</td>\n",
       "      <td>front</td>\n",
       "      <td>88.6</td>\n",
       "      <td>...</td>\n",
       "      <td>130</td>\n",
       "      <td>mpfi</td>\n",
       "      <td>3.47</td>\n",
       "      <td>2.68</td>\n",
       "      <td>9.0</td>\n",
       "      <td>111</td>\n",
       "      <td>5000</td>\n",
       "      <td>21</td>\n",
       "      <td>27</td>\n",
       "      <td>16500.0</td>\n",
       "    </tr>\n",
       "    <tr>\n",
       "      <th>2</th>\n",
       "      <td>3</td>\n",
       "      <td>1</td>\n",
       "      <td>alfa-romero Quadrifoglio</td>\n",
       "      <td>gas</td>\n",
       "      <td>std</td>\n",
       "      <td>two</td>\n",
       "      <td>hatchback</td>\n",
       "      <td>rwd</td>\n",
       "      <td>front</td>\n",
       "      <td>94.5</td>\n",
       "      <td>...</td>\n",
       "      <td>152</td>\n",
       "      <td>mpfi</td>\n",
       "      <td>2.68</td>\n",
       "      <td>3.47</td>\n",
       "      <td>9.0</td>\n",
       "      <td>154</td>\n",
       "      <td>5000</td>\n",
       "      <td>19</td>\n",
       "      <td>26</td>\n",
       "      <td>16500.0</td>\n",
       "    </tr>\n",
       "    <tr>\n",
       "      <th>3</th>\n",
       "      <td>4</td>\n",
       "      <td>2</td>\n",
       "      <td>audi 100 ls</td>\n",
       "      <td>gas</td>\n",
       "      <td>std</td>\n",
       "      <td>four</td>\n",
       "      <td>sedan</td>\n",
       "      <td>fwd</td>\n",
       "      <td>front</td>\n",
       "      <td>99.8</td>\n",
       "      <td>...</td>\n",
       "      <td>109</td>\n",
       "      <td>mpfi</td>\n",
       "      <td>3.19</td>\n",
       "      <td>3.40</td>\n",
       "      <td>10.0</td>\n",
       "      <td>102</td>\n",
       "      <td>5500</td>\n",
       "      <td>24</td>\n",
       "      <td>30</td>\n",
       "      <td>13950.0</td>\n",
       "    </tr>\n",
       "    <tr>\n",
       "      <th>4</th>\n",
       "      <td>5</td>\n",
       "      <td>2</td>\n",
       "      <td>audi 100ls</td>\n",
       "      <td>gas</td>\n",
       "      <td>std</td>\n",
       "      <td>four</td>\n",
       "      <td>sedan</td>\n",
       "      <td>4wd</td>\n",
       "      <td>front</td>\n",
       "      <td>99.4</td>\n",
       "      <td>...</td>\n",
       "      <td>136</td>\n",
       "      <td>mpfi</td>\n",
       "      <td>3.19</td>\n",
       "      <td>3.40</td>\n",
       "      <td>8.0</td>\n",
       "      <td>115</td>\n",
       "      <td>5500</td>\n",
       "      <td>18</td>\n",
       "      <td>22</td>\n",
       "      <td>17450.0</td>\n",
       "    </tr>\n",
       "  </tbody>\n",
       "</table>\n",
       "<p>5 rows × 26 columns</p>\n",
       "</div>"
      ],
      "text/plain": [
       "   car_ID  symboling                   CarName fueltype aspiration doornumber  \\\n",
       "0       1          3        alfa-romero giulia      gas        std        two   \n",
       "1       2          3       alfa-romero stelvio      gas        std        two   \n",
       "2       3          1  alfa-romero Quadrifoglio      gas        std        two   \n",
       "3       4          2               audi 100 ls      gas        std       four   \n",
       "4       5          2                audi 100ls      gas        std       four   \n",
       "\n",
       "       carbody drivewheel enginelocation  wheelbase  ...  enginesize  \\\n",
       "0  convertible        rwd          front       88.6  ...         130   \n",
       "1  convertible        rwd          front       88.6  ...         130   \n",
       "2    hatchback        rwd          front       94.5  ...         152   \n",
       "3        sedan        fwd          front       99.8  ...         109   \n",
       "4        sedan        4wd          front       99.4  ...         136   \n",
       "\n",
       "   fuelsystem  boreratio  stroke compressionratio horsepower  peakrpm citympg  \\\n",
       "0        mpfi       3.47    2.68              9.0        111     5000      21   \n",
       "1        mpfi       3.47    2.68              9.0        111     5000      21   \n",
       "2        mpfi       2.68    3.47              9.0        154     5000      19   \n",
       "3        mpfi       3.19    3.40             10.0        102     5500      24   \n",
       "4        mpfi       3.19    3.40              8.0        115     5500      18   \n",
       "\n",
       "   highwaympg    price  \n",
       "0          27  13495.0  \n",
       "1          27  16500.0  \n",
       "2          26  16500.0  \n",
       "3          30  13950.0  \n",
       "4          22  17450.0  \n",
       "\n",
       "[5 rows x 26 columns]"
      ]
     },
     "execution_count": 73,
     "metadata": {},
     "output_type": "execute_result"
    }
   ],
   "source": [
    "df = pd.read_csv('../data/CarPrice_Assignment.csv')\n",
    "df.head()"
   ]
  },
  {
   "cell_type": "markdown",
   "id": "b67e2db3",
   "metadata": {},
   "source": [
    " ## Check the shape of the data frame"
   ]
  },
  {
   "cell_type": "code",
   "execution_count": 74,
   "id": "fc348212",
   "metadata": {},
   "outputs": [
    {
     "data": {
      "text/plain": [
       "(205, 26)"
      ]
     },
     "execution_count": 74,
     "metadata": {},
     "output_type": "execute_result"
    }
   ],
   "source": [
    "df.shape"
   ]
  },
  {
   "cell_type": "markdown",
   "id": "ddd06f98",
   "metadata": {},
   "source": [
    "The data frame is not large enough to merit sampling the data."
   ]
  },
  {
   "cell_type": "markdown",
   "id": "abdd4e96",
   "metadata": {},
   "source": [
    "## Checking for null values"
   ]
  },
  {
   "cell_type": "code",
   "execution_count": 75,
   "id": "dcb7f425",
   "metadata": {},
   "outputs": [
    {
     "data": {
      "text/plain": [
       "car_ID              0\n",
       "symboling           0\n",
       "CarName             0\n",
       "fueltype            0\n",
       "aspiration          0\n",
       "doornumber          0\n",
       "carbody             0\n",
       "drivewheel          0\n",
       "enginelocation      0\n",
       "wheelbase           0\n",
       "carlength           0\n",
       "carwidth            0\n",
       "carheight           0\n",
       "curbweight          0\n",
       "enginetype          0\n",
       "cylindernumber      0\n",
       "enginesize          0\n",
       "fuelsystem          0\n",
       "boreratio           0\n",
       "stroke              0\n",
       "compressionratio    0\n",
       "horsepower          0\n",
       "peakrpm             0\n",
       "citympg             0\n",
       "highwaympg          0\n",
       "price               0\n",
       "dtype: int64"
      ]
     },
     "execution_count": 75,
     "metadata": {},
     "output_type": "execute_result"
    }
   ],
   "source": [
    "df.isnull().sum()"
   ]
  },
  {
   "cell_type": "markdown",
   "id": "f42d8fbb",
   "metadata": {},
   "source": [
    "There are no null values in the data set."
   ]
  },
  {
   "cell_type": "markdown",
   "id": "7e64f7b3",
   "metadata": {},
   "source": [
    "## Check data types"
   ]
  },
  {
   "cell_type": "code",
   "execution_count": 76,
   "id": "9d4ce5eb",
   "metadata": {},
   "outputs": [
    {
     "data": {
      "text/plain": [
       "car_ID                int64\n",
       "symboling             int64\n",
       "CarName              object\n",
       "fueltype             object\n",
       "aspiration           object\n",
       "doornumber           object\n",
       "carbody              object\n",
       "drivewheel           object\n",
       "enginelocation       object\n",
       "wheelbase           float64\n",
       "carlength           float64\n",
       "carwidth            float64\n",
       "carheight           float64\n",
       "curbweight            int64\n",
       "enginetype           object\n",
       "cylindernumber       object\n",
       "enginesize            int64\n",
       "fuelsystem           object\n",
       "boreratio           float64\n",
       "stroke              float64\n",
       "compressionratio    float64\n",
       "horsepower            int64\n",
       "peakrpm               int64\n",
       "citympg               int64\n",
       "highwaympg            int64\n",
       "price               float64\n",
       "dtype: object"
      ]
     },
     "execution_count": 76,
     "metadata": {},
     "output_type": "execute_result"
    }
   ],
   "source": [
    "df.dtypes\n"
   ]
  },
  {
   "cell_type": "markdown",
   "id": "136dfe1e",
   "metadata": {},
   "source": [
    "We notice cylindernumber is an object and thus needs further investigation."
   ]
  },
  {
   "cell_type": "code",
   "execution_count": 77,
   "id": "4ffa84b5",
   "metadata": {},
   "outputs": [
    {
     "data": {
      "text/plain": [
       "array(['four', 'six', 'five', 'three', 'twelve', 'two', 'eight'],\n",
       "      dtype=object)"
      ]
     },
     "execution_count": 77,
     "metadata": {},
     "output_type": "execute_result"
    }
   ],
   "source": [
    "df['cylindernumber'].unique()\n"
   ]
  },
  {
   "cell_type": "markdown",
   "id": "6d6b45bb",
   "metadata": {},
   "source": [
    "We discovered that the cylindernumber is an an object because it's listing the numbers in word format. To make things easier for analysis we will change the values into a numerical format."
   ]
  },
  {
   "cell_type": "code",
   "execution_count": 78,
   "id": "cd0ffc1f",
   "metadata": {},
   "outputs": [],
   "source": [
    "df.replace({'cylindernumber': {'four': 4, 'six': 6, 'five': 5, 'three': 3, 'twelve': 12, 'two': 2, 'eight': 8}}, inplace=True)\n",
    "df['cylindernumber'] = df['cylindernumber'].astype(int)"
   ]
  },
  {
   "cell_type": "markdown",
   "id": "95766dac",
   "metadata": {},
   "source": [
    "We check that the changes have successfully been made."
   ]
  },
  {
   "cell_type": "code",
   "execution_count": 79,
   "id": "c7293ba6",
   "metadata": {},
   "outputs": [
    {
     "data": {
      "text/plain": [
       "car_ID                int64\n",
       "symboling             int64\n",
       "CarName              object\n",
       "fueltype             object\n",
       "aspiration           object\n",
       "doornumber           object\n",
       "carbody              object\n",
       "drivewheel           object\n",
       "enginelocation       object\n",
       "wheelbase           float64\n",
       "carlength           float64\n",
       "carwidth            float64\n",
       "carheight           float64\n",
       "curbweight            int64\n",
       "enginetype           object\n",
       "cylindernumber        int32\n",
       "enginesize            int64\n",
       "fuelsystem           object\n",
       "boreratio           float64\n",
       "stroke              float64\n",
       "compressionratio    float64\n",
       "horsepower            int64\n",
       "peakrpm               int64\n",
       "citympg               int64\n",
       "highwaympg            int64\n",
       "price               float64\n",
       "dtype: object"
      ]
     },
     "execution_count": 79,
     "metadata": {},
     "output_type": "execute_result"
    }
   ],
   "source": [
    "df.dtypes"
   ]
  },
  {
   "cell_type": "markdown",
   "id": "c0546ab8",
   "metadata": {},
   "source": [
    "## Checking the unique values of object variables to spot any errors."
   ]
  },
  {
   "cell_type": "markdown",
   "id": "8325b091",
   "metadata": {},
   "source": [
    "Checking CarName."
   ]
  },
  {
   "cell_type": "code",
   "execution_count": 80,
   "id": "d8c2bd8c",
   "metadata": {},
   "outputs": [
    {
     "data": {
      "text/plain": [
       "array(['alfa-romero giulia', 'alfa-romero stelvio',\n",
       "       'alfa-romero Quadrifoglio', 'audi 100 ls', 'audi 100ls',\n",
       "       'audi fox', 'audi 5000', 'audi 4000', 'audi 5000s (diesel)',\n",
       "       'bmw 320i', 'bmw x1', 'bmw x3', 'bmw z4', 'bmw x4', 'bmw x5',\n",
       "       'chevrolet impala', 'chevrolet monte carlo', 'chevrolet vega 2300',\n",
       "       'dodge rampage', 'dodge challenger se', 'dodge d200',\n",
       "       'dodge monaco (sw)', 'dodge colt hardtop', 'dodge colt (sw)',\n",
       "       'dodge coronet custom', 'dodge dart custom',\n",
       "       'dodge coronet custom (sw)', 'honda civic', 'honda civic cvcc',\n",
       "       'honda accord cvcc', 'honda accord lx', 'honda civic 1500 gl',\n",
       "       'honda accord', 'honda civic 1300', 'honda prelude',\n",
       "       'honda civic (auto)', 'isuzu MU-X', 'isuzu D-Max ',\n",
       "       'isuzu D-Max V-Cross', 'jaguar xj', 'jaguar xf', 'jaguar xk',\n",
       "       'maxda rx3', 'maxda glc deluxe', 'mazda rx2 coupe', 'mazda rx-4',\n",
       "       'mazda glc deluxe', 'mazda 626', 'mazda glc', 'mazda rx-7 gs',\n",
       "       'mazda glc 4', 'mazda glc custom l', 'mazda glc custom',\n",
       "       'buick electra 225 custom', 'buick century luxus (sw)',\n",
       "       'buick century', 'buick skyhawk', 'buick opel isuzu deluxe',\n",
       "       'buick skylark', 'buick century special',\n",
       "       'buick regal sport coupe (turbo)', 'mercury cougar',\n",
       "       'mitsubishi mirage', 'mitsubishi lancer', 'mitsubishi outlander',\n",
       "       'mitsubishi g4', 'mitsubishi mirage g4', 'mitsubishi montero',\n",
       "       'mitsubishi pajero', 'Nissan versa', 'nissan gt-r', 'nissan rogue',\n",
       "       'nissan latio', 'nissan titan', 'nissan leaf', 'nissan juke',\n",
       "       'nissan note', 'nissan clipper', 'nissan nv200', 'nissan dayz',\n",
       "       'nissan fuga', 'nissan otti', 'nissan teana', 'nissan kicks',\n",
       "       'peugeot 504', 'peugeot 304', 'peugeot 504 (sw)', 'peugeot 604sl',\n",
       "       'peugeot 505s turbo diesel', 'plymouth fury iii',\n",
       "       'plymouth cricket', 'plymouth satellite custom (sw)',\n",
       "       'plymouth fury gran sedan', 'plymouth valiant', 'plymouth duster',\n",
       "       'porsche macan', 'porcshce panamera', 'porsche cayenne',\n",
       "       'porsche boxter', 'renault 12tl', 'renault 5 gtl', 'saab 99e',\n",
       "       'saab 99le', 'saab 99gle', 'subaru', 'subaru dl', 'subaru brz',\n",
       "       'subaru baja', 'subaru r1', 'subaru r2', 'subaru trezia',\n",
       "       'subaru tribeca', 'toyota corona mark ii', 'toyota corona',\n",
       "       'toyota corolla 1200', 'toyota corona hardtop',\n",
       "       'toyota corolla 1600 (sw)', 'toyota carina', 'toyota mark ii',\n",
       "       'toyota corolla', 'toyota corolla liftback',\n",
       "       'toyota celica gt liftback', 'toyota corolla tercel',\n",
       "       'toyota corona liftback', 'toyota starlet', 'toyota tercel',\n",
       "       'toyota cressida', 'toyota celica gt', 'toyouta tercel',\n",
       "       'vokswagen rabbit', 'volkswagen 1131 deluxe sedan',\n",
       "       'volkswagen model 111', 'volkswagen type 3', 'volkswagen 411 (sw)',\n",
       "       'volkswagen super beetle', 'volkswagen dasher', 'vw dasher',\n",
       "       'vw rabbit', 'volkswagen rabbit', 'volkswagen rabbit custom',\n",
       "       'volvo 145e (sw)', 'volvo 144ea', 'volvo 244dl', 'volvo 245',\n",
       "       'volvo 264gl', 'volvo diesel', 'volvo 246'], dtype=object)"
      ]
     },
     "execution_count": 80,
     "metadata": {},
     "output_type": "execute_result"
    }
   ],
   "source": [
    "df['CarName'].unique()"
   ]
  },
  {
   "cell_type": "markdown",
   "id": "7dff508f",
   "metadata": {},
   "source": [
    "We will change Maxda to Mazda, Toyouta to Toyota, Porcshce to porsche and Vokswagen to Volkswagen."
   ]
  },
  {
   "cell_type": "code",
   "execution_count": 81,
   "id": "fadd8a58",
   "metadata": {},
   "outputs": [],
   "source": [
    "df.replace({'CarName': {'toyouta tercel': 'toyota tercel', 'porcshce panamera': 'porsche','vokswagen rabbit':'volkswagen rabbit'}}, inplace=True)"
   ]
  },
  {
   "cell_type": "code",
   "execution_count": 82,
   "id": "07694bd4",
   "metadata": {},
   "outputs": [],
   "source": [
    "df.replace({'CarName': {'maxda rx3': 'mazda rx3','maxda glc deluxe':'mazda glc deluxe'}}, inplace=True)"
   ]
  },
  {
   "cell_type": "code",
   "execution_count": 83,
   "id": "ef0d7f8c",
   "metadata": {},
   "outputs": [
    {
     "data": {
      "text/plain": [
       "array(['alfa-romero giulia', 'alfa-romero stelvio',\n",
       "       'alfa-romero Quadrifoglio', 'audi 100 ls', 'audi 100ls',\n",
       "       'audi fox', 'audi 5000', 'audi 4000', 'audi 5000s (diesel)',\n",
       "       'bmw 320i', 'bmw x1', 'bmw x3', 'bmw z4', 'bmw x4', 'bmw x5',\n",
       "       'chevrolet impala', 'chevrolet monte carlo', 'chevrolet vega 2300',\n",
       "       'dodge rampage', 'dodge challenger se', 'dodge d200',\n",
       "       'dodge monaco (sw)', 'dodge colt hardtop', 'dodge colt (sw)',\n",
       "       'dodge coronet custom', 'dodge dart custom',\n",
       "       'dodge coronet custom (sw)', 'honda civic', 'honda civic cvcc',\n",
       "       'honda accord cvcc', 'honda accord lx', 'honda civic 1500 gl',\n",
       "       'honda accord', 'honda civic 1300', 'honda prelude',\n",
       "       'honda civic (auto)', 'isuzu MU-X', 'isuzu D-Max ',\n",
       "       'isuzu D-Max V-Cross', 'jaguar xj', 'jaguar xf', 'jaguar xk',\n",
       "       'mazda rx3', 'mazda glc deluxe', 'mazda rx2 coupe', 'mazda rx-4',\n",
       "       'mazda 626', 'mazda glc', 'mazda rx-7 gs', 'mazda glc 4',\n",
       "       'mazda glc custom l', 'mazda glc custom',\n",
       "       'buick electra 225 custom', 'buick century luxus (sw)',\n",
       "       'buick century', 'buick skyhawk', 'buick opel isuzu deluxe',\n",
       "       'buick skylark', 'buick century special',\n",
       "       'buick regal sport coupe (turbo)', 'mercury cougar',\n",
       "       'mitsubishi mirage', 'mitsubishi lancer', 'mitsubishi outlander',\n",
       "       'mitsubishi g4', 'mitsubishi mirage g4', 'mitsubishi montero',\n",
       "       'mitsubishi pajero', 'Nissan versa', 'nissan gt-r', 'nissan rogue',\n",
       "       'nissan latio', 'nissan titan', 'nissan leaf', 'nissan juke',\n",
       "       'nissan note', 'nissan clipper', 'nissan nv200', 'nissan dayz',\n",
       "       'nissan fuga', 'nissan otti', 'nissan teana', 'nissan kicks',\n",
       "       'peugeot 504', 'peugeot 304', 'peugeot 504 (sw)', 'peugeot 604sl',\n",
       "       'peugeot 505s turbo diesel', 'plymouth fury iii',\n",
       "       'plymouth cricket', 'plymouth satellite custom (sw)',\n",
       "       'plymouth fury gran sedan', 'plymouth valiant', 'plymouth duster',\n",
       "       'porsche macan', 'porsche', 'porsche cayenne', 'porsche boxter',\n",
       "       'renault 12tl', 'renault 5 gtl', 'saab 99e', 'saab 99le',\n",
       "       'saab 99gle', 'subaru', 'subaru dl', 'subaru brz', 'subaru baja',\n",
       "       'subaru r1', 'subaru r2', 'subaru trezia', 'subaru tribeca',\n",
       "       'toyota corona mark ii', 'toyota corona', 'toyota corolla 1200',\n",
       "       'toyota corona hardtop', 'toyota corolla 1600 (sw)',\n",
       "       'toyota carina', 'toyota mark ii', 'toyota corolla',\n",
       "       'toyota corolla liftback', 'toyota celica gt liftback',\n",
       "       'toyota corolla tercel', 'toyota corona liftback',\n",
       "       'toyota starlet', 'toyota tercel', 'toyota cressida',\n",
       "       'toyota celica gt', 'volkswagen rabbit',\n",
       "       'volkswagen 1131 deluxe sedan', 'volkswagen model 111',\n",
       "       'volkswagen type 3', 'volkswagen 411 (sw)',\n",
       "       'volkswagen super beetle', 'volkswagen dasher', 'vw dasher',\n",
       "       'vw rabbit', 'volkswagen rabbit custom', 'volvo 145e (sw)',\n",
       "       'volvo 144ea', 'volvo 244dl', 'volvo 245', 'volvo 264gl',\n",
       "       'volvo diesel', 'volvo 246'], dtype=object)"
      ]
     },
     "execution_count": 83,
     "metadata": {},
     "output_type": "execute_result"
    }
   ],
   "source": [
    "df['CarName'].unique()"
   ]
  },
  {
   "cell_type": "markdown",
   "id": "78c14466",
   "metadata": {},
   "source": [
    "We will convert all value names into having a capital letter for each word."
   ]
  },
  {
   "cell_type": "code",
   "execution_count": 84,
   "id": "a7286d49",
   "metadata": {},
   "outputs": [],
   "source": [
    "df['CarName'] = df['CarName'].str.title()"
   ]
  },
  {
   "cell_type": "code",
   "execution_count": 85,
   "id": "709ebb3e",
   "metadata": {},
   "outputs": [
    {
     "data": {
      "text/plain": [
       "array(['Alfa-Romero Giulia', 'Alfa-Romero Stelvio',\n",
       "       'Alfa-Romero Quadrifoglio', 'Audi 100 Ls', 'Audi 100Ls',\n",
       "       'Audi Fox', 'Audi 5000', 'Audi 4000', 'Audi 5000S (Diesel)',\n",
       "       'Bmw 320I', 'Bmw X1', 'Bmw X3', 'Bmw Z4', 'Bmw X4', 'Bmw X5',\n",
       "       'Chevrolet Impala', 'Chevrolet Monte Carlo', 'Chevrolet Vega 2300',\n",
       "       'Dodge Rampage', 'Dodge Challenger Se', 'Dodge D200',\n",
       "       'Dodge Monaco (Sw)', 'Dodge Colt Hardtop', 'Dodge Colt (Sw)',\n",
       "       'Dodge Coronet Custom', 'Dodge Dart Custom',\n",
       "       'Dodge Coronet Custom (Sw)', 'Honda Civic', 'Honda Civic Cvcc',\n",
       "       'Honda Accord Cvcc', 'Honda Accord Lx', 'Honda Civic 1500 Gl',\n",
       "       'Honda Accord', 'Honda Civic 1300', 'Honda Prelude',\n",
       "       'Honda Civic (Auto)', 'Isuzu Mu-X', 'Isuzu D-Max ',\n",
       "       'Isuzu D-Max V-Cross', 'Jaguar Xj', 'Jaguar Xf', 'Jaguar Xk',\n",
       "       'Mazda Rx3', 'Mazda Glc Deluxe', 'Mazda Rx2 Coupe', 'Mazda Rx-4',\n",
       "       'Mazda 626', 'Mazda Glc', 'Mazda Rx-7 Gs', 'Mazda Glc 4',\n",
       "       'Mazda Glc Custom L', 'Mazda Glc Custom',\n",
       "       'Buick Electra 225 Custom', 'Buick Century Luxus (Sw)',\n",
       "       'Buick Century', 'Buick Skyhawk', 'Buick Opel Isuzu Deluxe',\n",
       "       'Buick Skylark', 'Buick Century Special',\n",
       "       'Buick Regal Sport Coupe (Turbo)', 'Mercury Cougar',\n",
       "       'Mitsubishi Mirage', 'Mitsubishi Lancer', 'Mitsubishi Outlander',\n",
       "       'Mitsubishi G4', 'Mitsubishi Mirage G4', 'Mitsubishi Montero',\n",
       "       'Mitsubishi Pajero', 'Nissan Versa', 'Nissan Gt-R', 'Nissan Rogue',\n",
       "       'Nissan Latio', 'Nissan Titan', 'Nissan Leaf', 'Nissan Juke',\n",
       "       'Nissan Note', 'Nissan Clipper', 'Nissan Nv200', 'Nissan Dayz',\n",
       "       'Nissan Fuga', 'Nissan Otti', 'Nissan Teana', 'Nissan Kicks',\n",
       "       'Peugeot 504', 'Peugeot 304', 'Peugeot 504 (Sw)', 'Peugeot 604Sl',\n",
       "       'Peugeot 505S Turbo Diesel', 'Plymouth Fury Iii',\n",
       "       'Plymouth Cricket', 'Plymouth Satellite Custom (Sw)',\n",
       "       'Plymouth Fury Gran Sedan', 'Plymouth Valiant', 'Plymouth Duster',\n",
       "       'Porsche Macan', 'Porsche', 'Porsche Cayenne', 'Porsche Boxter',\n",
       "       'Renault 12Tl', 'Renault 5 Gtl', 'Saab 99E', 'Saab 99Le',\n",
       "       'Saab 99Gle', 'Subaru', 'Subaru Dl', 'Subaru Brz', 'Subaru Baja',\n",
       "       'Subaru R1', 'Subaru R2', 'Subaru Trezia', 'Subaru Tribeca',\n",
       "       'Toyota Corona Mark Ii', 'Toyota Corona', 'Toyota Corolla 1200',\n",
       "       'Toyota Corona Hardtop', 'Toyota Corolla 1600 (Sw)',\n",
       "       'Toyota Carina', 'Toyota Mark Ii', 'Toyota Corolla',\n",
       "       'Toyota Corolla Liftback', 'Toyota Celica Gt Liftback',\n",
       "       'Toyota Corolla Tercel', 'Toyota Corona Liftback',\n",
       "       'Toyota Starlet', 'Toyota Tercel', 'Toyota Cressida',\n",
       "       'Toyota Celica Gt', 'Volkswagen Rabbit',\n",
       "       'Volkswagen 1131 Deluxe Sedan', 'Volkswagen Model 111',\n",
       "       'Volkswagen Type 3', 'Volkswagen 411 (Sw)',\n",
       "       'Volkswagen Super Beetle', 'Volkswagen Dasher', 'Vw Dasher',\n",
       "       'Vw Rabbit', 'Volkswagen Rabbit Custom', 'Volvo 145E (Sw)',\n",
       "       'Volvo 144Ea', 'Volvo 244Dl', 'Volvo 245', 'Volvo 264Gl',\n",
       "       'Volvo Diesel', 'Volvo 246'], dtype=object)"
      ]
     },
     "execution_count": 85,
     "metadata": {},
     "output_type": "execute_result"
    }
   ],
   "source": [
    "df['CarName'].unique()"
   ]
  },
  {
   "cell_type": "markdown",
   "id": "a57adaa4",
   "metadata": {},
   "source": [
    "The values are all capitalised now, however we want to make 'Bmw' 'BMW' with a function."
   ]
  },
  {
   "cell_type": "code",
   "execution_count": 86,
   "id": "9f461a26",
   "metadata": {},
   "outputs": [
    {
     "data": {
      "text/plain": [
       "array(['Alfa-Romero Giulia', 'Alfa-Romero Stelvio',\n",
       "       'Alfa-Romero Quadrifoglio', 'Audi 100 Ls', 'Audi 100Ls',\n",
       "       'Audi Fox', 'Audi 5000', 'Audi 4000', 'Audi 5000S (Diesel)',\n",
       "       'BMW 320I', 'BMW X1', 'BMW X3', 'BMW Z4', 'BMW X4', 'BMW X5',\n",
       "       'Chevrolet Impala', 'Chevrolet Monte Carlo', 'Chevrolet Vega 2300',\n",
       "       'Dodge Rampage', 'Dodge Challenger Se', 'Dodge D200',\n",
       "       'Dodge Monaco (Sw)', 'Dodge Colt Hardtop', 'Dodge Colt (Sw)',\n",
       "       'Dodge Coronet Custom', 'Dodge Dart Custom',\n",
       "       'Dodge Coronet Custom (Sw)', 'Honda Civic', 'Honda Civic Cvcc',\n",
       "       'Honda Accord Cvcc', 'Honda Accord Lx', 'Honda Civic 1500 Gl',\n",
       "       'Honda Accord', 'Honda Civic 1300', 'Honda Prelude',\n",
       "       'Honda Civic (Auto)', 'Isuzu Mu-X', 'Isuzu D-Max ',\n",
       "       'Isuzu D-Max V-Cross', 'Jaguar Xj', 'Jaguar Xf', 'Jaguar Xk',\n",
       "       'Mazda Rx3', 'Mazda Glc Deluxe', 'Mazda Rx2 Coupe', 'Mazda Rx-4',\n",
       "       'Mazda 626', 'Mazda Glc', 'Mazda Rx-7 Gs', 'Mazda Glc 4',\n",
       "       'Mazda Glc Custom L', 'Mazda Glc Custom',\n",
       "       'Buick Electra 225 Custom', 'Buick Century Luxus (Sw)',\n",
       "       'Buick Century', 'Buick Skyhawk', 'Buick Opel Isuzu Deluxe',\n",
       "       'Buick Skylark', 'Buick Century Special',\n",
       "       'Buick Regal Sport Coupe (Turbo)', 'Mercury Cougar',\n",
       "       'Mitsubishi Mirage', 'Mitsubishi Lancer', 'Mitsubishi Outlander',\n",
       "       'Mitsubishi G4', 'Mitsubishi Mirage G4', 'Mitsubishi Montero',\n",
       "       'Mitsubishi Pajero', 'Nissan Versa', 'Nissan Gt-R', 'Nissan Rogue',\n",
       "       'Nissan Latio', 'Nissan Titan', 'Nissan Leaf', 'Nissan Juke',\n",
       "       'Nissan Note', 'Nissan Clipper', 'Nissan Nv200', 'Nissan Dayz',\n",
       "       'Nissan Fuga', 'Nissan Otti', 'Nissan Teana', 'Nissan Kicks',\n",
       "       'Peugeot 504', 'Peugeot 304', 'Peugeot 504 (Sw)', 'Peugeot 604Sl',\n",
       "       'Peugeot 505S Turbo Diesel', 'Plymouth Fury Iii',\n",
       "       'Plymouth Cricket', 'Plymouth Satellite Custom (Sw)',\n",
       "       'Plymouth Fury Gran Sedan', 'Plymouth Valiant', 'Plymouth Duster',\n",
       "       'Porsche Macan', 'Porsche', 'Porsche Cayenne', 'Porsche Boxter',\n",
       "       'Renault 12Tl', 'Renault 5 Gtl', 'Saab 99E', 'Saab 99Le',\n",
       "       'Saab 99Gle', 'Subaru', 'Subaru Dl', 'Subaru Brz', 'Subaru Baja',\n",
       "       'Subaru R1', 'Subaru R2', 'Subaru Trezia', 'Subaru Tribeca',\n",
       "       'Toyota Corona Mark Ii', 'Toyota Corona', 'Toyota Corolla 1200',\n",
       "       'Toyota Corona Hardtop', 'Toyota Corolla 1600 (Sw)',\n",
       "       'Toyota Carina', 'Toyota Mark Ii', 'Toyota Corolla',\n",
       "       'Toyota Corolla Liftback', 'Toyota Celica Gt Liftback',\n",
       "       'Toyota Corolla Tercel', 'Toyota Corona Liftback',\n",
       "       'Toyota Starlet', 'Toyota Tercel', 'Toyota Cressida',\n",
       "       'Toyota Celica Gt', 'Volkswagen Rabbit',\n",
       "       'Volkswagen 1131 Deluxe Sedan', 'Volkswagen Model 111',\n",
       "       'Volkswagen Type 3', 'Volkswagen 411 (Sw)',\n",
       "       'Volkswagen Super Beetle', 'Volkswagen Dasher', 'Vw Dasher',\n",
       "       'Vw Rabbit', 'Volkswagen Rabbit Custom', 'Volvo 145E (Sw)',\n",
       "       'Volvo 144Ea', 'Volvo 244Dl', 'Volvo 245', 'Volvo 264Gl',\n",
       "       'Volvo Diesel', 'Volvo 246'], dtype=object)"
      ]
     },
     "execution_count": 86,
     "metadata": {},
     "output_type": "execute_result"
    }
   ],
   "source": [
    "def correct_bmw(name):\n",
    "    name = name.title()  # Capitalizes first letter of each word\n",
    "    return name.replace(\"Bmw\", \"BMW\")\n",
    "\n",
    "df['CarName'] = df['CarName'].apply(correct_bmw)\n",
    "df['CarName'].unique()"
   ]
  },
  {
   "cell_type": "markdown",
   "id": "b3ad4df5",
   "metadata": {},
   "source": [
    "Checking Fueltype"
   ]
  },
  {
   "cell_type": "code",
   "execution_count": 87,
   "id": "40c0a942",
   "metadata": {},
   "outputs": [
    {
     "data": {
      "text/plain": [
       "array(['gas', 'diesel'], dtype=object)"
      ]
     },
     "execution_count": 87,
     "metadata": {},
     "output_type": "execute_result"
    }
   ],
   "source": [
    "df['fueltype'].unique()"
   ]
  },
  {
   "cell_type": "markdown",
   "id": "36222ccc",
   "metadata": {},
   "source": [
    "Checking aspiration"
   ]
  },
  {
   "cell_type": "code",
   "execution_count": 88,
   "id": "a42731ca",
   "metadata": {},
   "outputs": [
    {
     "data": {
      "text/plain": [
       "array(['std', 'turbo'], dtype=object)"
      ]
     },
     "execution_count": 88,
     "metadata": {},
     "output_type": "execute_result"
    }
   ],
   "source": [
    "df['aspiration'].unique()"
   ]
  },
  {
   "cell_type": "markdown",
   "id": "6ecdf6a4",
   "metadata": {},
   "source": [
    "Checking doornumber"
   ]
  },
  {
   "cell_type": "code",
   "execution_count": 89,
   "id": "d57c8e50",
   "metadata": {},
   "outputs": [
    {
     "data": {
      "text/plain": [
       "array(['two', 'four'], dtype=object)"
      ]
     },
     "execution_count": 89,
     "metadata": {},
     "output_type": "execute_result"
    }
   ],
   "source": [
    "df['doornumber'].unique()"
   ]
  },
  {
   "cell_type": "markdown",
   "id": "c9d3fcd6",
   "metadata": {},
   "source": [
    "Checking carbody"
   ]
  },
  {
   "cell_type": "code",
   "execution_count": 90,
   "id": "0145cfa9",
   "metadata": {},
   "outputs": [
    {
     "data": {
      "text/plain": [
       "array(['convertible', 'hatchback', 'sedan', 'wagon', 'hardtop'],\n",
       "      dtype=object)"
      ]
     },
     "execution_count": 90,
     "metadata": {},
     "output_type": "execute_result"
    }
   ],
   "source": [
    "df['carbody'].unique()"
   ]
  },
  {
   "cell_type": "markdown",
   "id": "326b79d0",
   "metadata": {},
   "source": [
    "Checking drivewheel"
   ]
  },
  {
   "cell_type": "code",
   "execution_count": 91,
   "id": "6350e077",
   "metadata": {},
   "outputs": [
    {
     "data": {
      "text/plain": [
       "array(['rwd', 'fwd', '4wd'], dtype=object)"
      ]
     },
     "execution_count": 91,
     "metadata": {},
     "output_type": "execute_result"
    }
   ],
   "source": [
    "df['drivewheel'].unique()"
   ]
  },
  {
   "cell_type": "markdown",
   "id": "a74c4bbf",
   "metadata": {},
   "source": [
    "Checking enginelocation"
   ]
  },
  {
   "cell_type": "code",
   "execution_count": 92,
   "id": "241339e4",
   "metadata": {},
   "outputs": [
    {
     "data": {
      "text/plain": [
       "array(['front', 'rear'], dtype=object)"
      ]
     },
     "execution_count": 92,
     "metadata": {},
     "output_type": "execute_result"
    }
   ],
   "source": [
    "df['enginelocation'].unique()"
   ]
  },
  {
   "cell_type": "markdown",
   "id": "f48b95c3",
   "metadata": {},
   "source": [
    "Checking fuelsystem"
   ]
  },
  {
   "cell_type": "code",
   "execution_count": 93,
   "id": "6e7b3e20",
   "metadata": {},
   "outputs": [
    {
     "data": {
      "text/plain": [
       "array(['mpfi', '2bbl', 'mfi', '1bbl', 'spfi', '4bbl', 'idi', 'spdi'],\n",
       "      dtype=object)"
      ]
     },
     "execution_count": 93,
     "metadata": {},
     "output_type": "execute_result"
    }
   ],
   "source": [
    "df['fuelsystem'].unique()"
   ]
  },
  {
   "cell_type": "markdown",
   "id": "e71ff95d",
   "metadata": {},
   "source": [
    "We are satisfied with all unique values of the object variables."
   ]
  },
  {
   "cell_type": "markdown",
   "id": "a0eed615",
   "metadata": {},
   "source": [
    "## Check for duplicates"
   ]
  },
  {
   "cell_type": "code",
   "execution_count": 94,
   "id": "40ca61a6",
   "metadata": {},
   "outputs": [
    {
     "data": {
      "text/plain": [
       "0"
      ]
     },
     "execution_count": 94,
     "metadata": {},
     "output_type": "execute_result"
    }
   ],
   "source": [
    "df.duplicated().sum()"
   ]
  },
  {
   "cell_type": "markdown",
   "id": "0133ce66",
   "metadata": {},
   "source": [
    "No duplicates found."
   ]
  },
  {
   "cell_type": "markdown",
   "id": "5fa75bff",
   "metadata": {},
   "source": [
    "We are satisfied the data is clean."
   ]
  },
  {
   "cell_type": "markdown",
   "id": "c44f20e1",
   "metadata": {},
   "source": [
    "## Save cleaned data to a new file"
   ]
  },
  {
   "cell_type": "code",
   "execution_count": 95,
   "id": "3e9a39a4",
   "metadata": {},
   "outputs": [],
   "source": [
    "df.to_csv(\"../data/cleanedcardata.csv\", index=False)"
   ]
  },
  {
   "cell_type": "markdown",
   "id": "79f02ef9",
   "metadata": {},
   "source": [
    "The dashboard visualisations for this data can be found [here](https://public.tableau.com/app/profile/kaori.ikarashi/viz/CarPriceAnalysis_17501618237170/Story1?publish=yes)."
   ]
  }
 ],
 "metadata": {
  "kernelspec": {
   "display_name": ".venv",
   "language": "python",
   "name": "python3"
  },
  "language_info": {
   "codemirror_mode": {
    "name": "ipython",
    "version": 3
   },
   "file_extension": ".py",
   "mimetype": "text/x-python",
   "name": "python",
   "nbconvert_exporter": "python",
   "pygments_lexer": "ipython3",
   "version": "3.12.10"
  }
 },
 "nbformat": 4,
 "nbformat_minor": 5
}
